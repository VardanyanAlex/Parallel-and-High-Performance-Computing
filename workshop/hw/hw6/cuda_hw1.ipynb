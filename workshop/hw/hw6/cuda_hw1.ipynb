{
  "nbformat": 4,
  "nbformat_minor": 0,
  "metadata": {
    "colab": {
      "provenance": [],
      "gpuType": "T4"
    },
    "kernelspec": {
      "name": "python3",
      "display_name": "Python 3"
    },
    "language_info": {
      "name": "python"
    },
    "accelerator": "GPU"
  },
  "cells": [
    {
      "cell_type": "code",
      "execution_count": 52,
      "metadata": {
        "colab": {
          "base_uri": "https://localhost:8080/"
        },
        "id": "NxxCewMk8nAP",
        "outputId": "5947d1b2-63ed-41e1-8727-3a2c2c15e3bc"
      },
      "outputs": [
        {
          "output_type": "stream",
          "name": "stdout",
          "text": [
            "Overwriting step1.cu\n"
          ]
        }
      ],
      "source": [
        "%%writefile step1.cu\n",
        "\n",
        "#include <stdio.h>\n",
        "#include <cuda_runtime.h>\n",
        "\n",
        "__global__ void MulByTwo(int* d_arr, int const size)\n",
        "{\n",
        "  int i = blockIdx.x * blockDim.x + threadIdx.x;\n",
        "  //printf(\"thread index: %d\\n\", i);\n",
        "\n",
        "  if (i < size)\n",
        "    d_arr[i] = d_arr[i] * 2;\n",
        "}\n",
        "\n",
        "void InitHostArray(int* h_arr, int const size)\n",
        "{\n",
        "  for (int i = 0; i < size; ++i)\n",
        "    h_arr[i] = i;\n",
        "}\n",
        "\n",
        "void checkResult(int* h_arr, int* h_result, int const size) {\n",
        "  bool match = 1;\n",
        "\n",
        "  for (int i = 0; i < size; i++)\n",
        "  {\n",
        "    if (h_arr[i] * 2 != h_result[i])\n",
        "    {\n",
        "      match = 0;\n",
        "      printf(\"Arrays do not match!\\n\");\n",
        "      printf(\"host %d gpu %d at current %d\\n\", h_arr[i], h_result[i], i);\n",
        "\n",
        "      break;\n",
        "    }\n",
        "  }\n",
        "\n",
        "  if (match)\n",
        "    printf(\"Arrays match.\\n\\n\");\n",
        "}\n",
        "\n",
        "int main()\n",
        "{\n",
        "  int nElem = 1000000000;\n",
        "\n",
        "  int* h_arr = (int*)malloc(sizeof(int) * nElem);\n",
        "  int* h_result = (int*)malloc(sizeof(int) * nElem);\n",
        "  InitHostArray(h_arr, nElem);\n",
        "\n",
        "  int* d_arr;\n",
        "  cudaMalloc(&d_arr, sizeof(int) * nElem);\n",
        "\n",
        "  cudaMemcpy(d_arr, h_arr, sizeof(int) * nElem, cudaMemcpyHostToDevice);\n",
        "\n",
        "  int iLen = 128;\n",
        "  dim3 block(iLen);\n",
        "  printf(\"Block size is %d\\n\", iLen);\n",
        "  dim3 grid((nElem + block.x - 1) / block.x);\n",
        "  printf(\"Grid size is %d\\n\", (nElem + block.x - 1) / block.x);\n",
        "\n",
        "  cudaEvent_t start, stop;\n",
        "  cudaEventCreate(&start);\n",
        "  cudaEventCreate(&stop);\n",
        "\n",
        "  cudaEventRecord(start);\n",
        "  MulByTwo<<<grid, block>>>(d_arr, nElem);\n",
        "  cudaEventRecord(stop);\n",
        "\n",
        "  cudaEventSynchronize(stop);\n",
        "\n",
        "  float ms;\n",
        "  cudaEventElapsedTime(&ms, start, stop);\n",
        "  printf(\"Elapsed time %f ms\\n\", ms);\n",
        "\n",
        "  cudaMemcpy(h_result, d_arr, sizeof(int) * nElem, cudaMemcpyDeviceToHost);\n",
        "\n",
        "  checkResult(h_arr, h_result, nElem);\n",
        "\n",
        "  cudaEventDestroy(start);\n",
        "\tcudaEventDestroy(stop);\n",
        "\n",
        "  cudaFree(d_arr);\n",
        "  free(h_arr);\n",
        "  free(h_result);\n",
        "\n",
        "  return 0;\n",
        "}\n"
      ]
    },
    {
      "cell_type": "code",
      "source": [
        "!nvcc -arch=sm_75 step1.cu -o step1"
      ],
      "metadata": {
        "id": "2XxF-TXyBG6v"
      },
      "execution_count": 53,
      "outputs": []
    },
    {
      "cell_type": "code",
      "source": [
        "!./step1"
      ],
      "metadata": {
        "colab": {
          "base_uri": "https://localhost:8080/"
        },
        "id": "McNPxA24GISk",
        "outputId": "bc7630d1-9120-4f70-ee1c-bc05e9af7e4c"
      },
      "execution_count": 54,
      "outputs": [
        {
          "output_type": "stream",
          "name": "stdout",
          "text": [
            "Block size is 128\n",
            "Grid size is 7812500\n",
            "Elapsed time 33.814655 ms\n",
            "Arrays match.\n",
            "\n"
          ]
        }
      ]
    },
    {
      "cell_type": "code",
      "source": [
        "%%writefile step2.cu\n",
        "\n",
        "#include <stdio.h>\n",
        "#include <cuda_runtime.h>\n",
        "\n",
        "__global__ void warmUp(int* d_arr, int const size)\n",
        "{\n",
        "  int i = blockIdx.x * blockDim.x + threadIdx.x;\n",
        "  //printf(\"thread index: %d\\n\", i);\n",
        "\n",
        "  if (i < size)\n",
        "    d_arr[i] = d_arr[i] * 1;\n",
        "}\n",
        "\n",
        "__global__ void MulByTwo(int* d_arr, int const size)\n",
        "{\n",
        "  int i = blockIdx.x * blockDim.x + threadIdx.x;\n",
        "  //printf(\"thread index: %d\\n\", i);\n",
        "\n",
        "  if (i < size)\n",
        "  {\n",
        "    if (i % 2 == 0)\n",
        "      d_arr[i] = d_arr[i] * 2;\n",
        "    else\n",
        "      d_arr[i] = d_arr[i] * 3;\n",
        "  }\n",
        "}\n",
        "\n",
        "void InitHostArray(int* h_arr, int const size)\n",
        "{\n",
        "  for (int i = 0; i < size; ++i)\n",
        "    h_arr[i] = i;\n",
        "}\n",
        "\n",
        "void checkResult(int* h_arr, int* h_result, int const size) {\n",
        "  bool match = 1;\n",
        "\n",
        "  for (int i = 0; i < size; i++)\n",
        "  {\n",
        "    if ((i % 2 == 0 && h_arr[i] * 2 != h_result[i]) ||\n",
        "        (i % 2 == 1 && h_arr[i] * 3 != h_result[i]))\n",
        "    {\n",
        "      match = 0;\n",
        "      printf(\"Arrays do not match!\\n\");\n",
        "      printf(\"host %d gpu %d at current %d\\n\", h_arr[i], h_result[i], i);\n",
        "\n",
        "      break;\n",
        "    }\n",
        "  }\n",
        "\n",
        "  if (match)\n",
        "    printf(\"Arrays match.\\n\\n\");\n",
        "}\n",
        "\n",
        "int main()\n",
        "{\n",
        "  int nElem = 1000000000;\n",
        "\n",
        "  int* h_arr = (int*)malloc(sizeof(int) * nElem);\n",
        "  int* h_result = (int*)malloc(sizeof(int) * nElem);\n",
        "  InitHostArray(h_arr, nElem);\n",
        "\n",
        "  int* d_arr;\n",
        "  cudaMalloc(&d_arr, sizeof(int) * nElem);\n",
        "\n",
        "  cudaMemcpy(d_arr, h_arr, sizeof(int) * nElem, cudaMemcpyHostToDevice);\n",
        "\n",
        "  int iLen = 128;\n",
        "  dim3 block(iLen);\n",
        "  printf(\"Block size is %d\\n\", iLen);\n",
        "  dim3 grid((nElem + block.x - 1) / block.x);\n",
        "  printf(\"Grid size is %d\\n\", (nElem + block.x - 1) / block.x);\n",
        "\n",
        "  cudaEvent_t start, stop;\n",
        "  cudaEventCreate(&start);\n",
        "  cudaEventCreate(&stop);\n",
        "\n",
        "  warmUp<<<1, 1>>>(d_arr, nElem);\n",
        "  cudaDeviceSynchronize();\n",
        "\n",
        "  cudaEventRecord(start);\n",
        "  MulByTwo<<<grid, block>>>(d_arr, nElem);\n",
        "  cudaEventRecord(stop);\n",
        "\n",
        "  cudaEventSynchronize(stop);\n",
        "\n",
        "  float ms;\n",
        "  cudaEventElapsedTime(&ms, start, stop);\n",
        "  printf(\"Elapsed time %.5f ms\\n\", ms);\n",
        "\n",
        "  cudaMemcpy(h_result, d_arr, sizeof(int) * nElem, cudaMemcpyDeviceToHost);\n",
        "\n",
        "  checkResult(h_arr, h_result, nElem);\n",
        "\n",
        "  cudaEventDestroy(start);\n",
        "\tcudaEventDestroy(stop);\n",
        "\n",
        "  cudaFree(d_arr);\n",
        "  free(h_arr);\n",
        "  free(h_result);\n",
        "\n",
        "  return 0;\n",
        "}\n"
      ],
      "metadata": {
        "colab": {
          "base_uri": "https://localhost:8080/"
        },
        "id": "iwOnVZcNNzVY",
        "outputId": "d02b75d0-236c-441e-8e9d-51857784014e"
      },
      "execution_count": 55,
      "outputs": [
        {
          "output_type": "stream",
          "name": "stdout",
          "text": [
            "Overwriting step2.cu\n"
          ]
        }
      ]
    },
    {
      "cell_type": "code",
      "source": [
        "!nvcc -arch=sm_75 step2.cu -O0 -o step2"
      ],
      "metadata": {
        "id": "rbQUdC0uOAFJ"
      },
      "execution_count": 56,
      "outputs": []
    },
    {
      "cell_type": "code",
      "source": [
        "!./step2"
      ],
      "metadata": {
        "colab": {
          "base_uri": "https://localhost:8080/"
        },
        "id": "ewosnCdaPmlD",
        "outputId": "b17efdcc-3557-4bc2-c261-92b64ff77fce"
      },
      "execution_count": 57,
      "outputs": [
        {
          "output_type": "stream",
          "name": "stdout",
          "text": [
            "Block size is 128\n",
            "Grid size is 7812500\n",
            "Elapsed time 34.76822 ms\n",
            "Arrays match.\n",
            "\n"
          ]
        }
      ]
    },
    {
      "cell_type": "code",
      "source": [
        "%%writefile step3.cu\n",
        "\n",
        "#include <stdio.h>\n",
        "#include <cuda_runtime.h>\n",
        "\n",
        "__global__ void warmUp(int* d_arr, int const size)\n",
        "{\n",
        "  int i = blockIdx.x * blockDim.x + threadIdx.x;\n",
        "  //printf(\"thread index: %d\\n\", warpsize);\n",
        "\n",
        "  if (i < size)\n",
        "    d_arr[i] = d_arr[i] * 1;\n",
        "}\n",
        "\n",
        "__global__ void MulByTwo(int* d_arr, int const size)\n",
        "{\n",
        "  int i = blockIdx.x * blockDim.x + threadIdx.x;\n",
        "  //printf(\"thread index: %d\\n\", warpsize);\n",
        "\n",
        "  if (i < size)\n",
        "  {\n",
        "    if ((i / warpSize) % 2 == 0)\n",
        "      d_arr[i] = d_arr[i] * 2;\n",
        "    else\n",
        "      d_arr[i] = d_arr[i] * 3;\n",
        "  }\n",
        "}\n",
        "\n",
        "void InitHostArray(int* h_arr, int const size)\n",
        "{\n",
        "  for (int i = 0; i < size; ++i)\n",
        "    h_arr[i] = i;\n",
        "}\n",
        "\n",
        "void checkResult(int* h_arr, int* h_result, int const size)\n",
        "{\n",
        "  bool match = 1;\n",
        "\n",
        "  for (int i = 0; i < size; i++)\n",
        "  {\n",
        "    // As the war size is 32\n",
        "    if ((i / 32 % 2 == 0 && h_arr[i] * 2 != h_result[i]) ||\n",
        "        (i / 32 % 2 == 1 && h_arr[i] * 3 != h_result[i]))\n",
        "    {\n",
        "      match = 0;\n",
        "      printf(\"Arrays do not match!\\n\");\n",
        "      printf(\"host %d gpu %d at current %d\\n\", h_arr[i], h_result[i], i);\n",
        "\n",
        "      break;\n",
        "    }\n",
        "  }\n",
        "\n",
        "  if (match)\n",
        "    printf(\"Arrays match.\\n\\n\");\n",
        "}\n",
        "\n",
        "int main()\n",
        "{\n",
        "  int nElem = 1000000000;\n",
        "\n",
        "  int* h_arr = (int*)malloc(sizeof(int) * nElem);\n",
        "  int* h_result = (int*)malloc(sizeof(int) * nElem);\n",
        "  InitHostArray(h_arr, nElem);\n",
        "\n",
        "  int* d_arr;\n",
        "  cudaMalloc(&d_arr, sizeof(int) * nElem);\n",
        "\n",
        "  cudaMemcpy(d_arr, h_arr, sizeof(int) * nElem, cudaMemcpyHostToDevice);\n",
        "\n",
        "  int iLen = 128;\n",
        "  dim3 block(iLen);\n",
        "  printf(\"Block size is %d\\n\", iLen);\n",
        "  dim3 grid((nElem + block.x - 1) / block.x);\n",
        "  printf(\"Grid size is %d\\n\", (nElem + block.x - 1) / block.x);\n",
        "\n",
        "  cudaEvent_t start, stop;\n",
        "  cudaEventCreate(&start);\n",
        "  cudaEventCreate(&stop);\n",
        "\n",
        "  warmUp<<<grid, block>>>(d_arr, nElem);\n",
        "  cudaDeviceSynchronize();\n",
        "\n",
        "  cudaEventRecord(start);\n",
        "  MulByTwo<<<grid, block>>>(d_arr, nElem);\n",
        "  cudaEventRecord(stop);\n",
        "\n",
        "  cudaEventSynchronize(stop);\n",
        "\n",
        "  float ms;\n",
        "  cudaEventElapsedTime(&ms, start, stop);\n",
        "  printf(\"Elapsed time %.5f ms\\n\", ms);\n",
        "\n",
        "  cudaMemcpy(h_result, d_arr, sizeof(int) * nElem, cudaMemcpyDeviceToHost);\n",
        "\n",
        "  checkResult(h_arr, h_result, nElem);\n",
        "\n",
        "  cudaEventDestroy(start);\n",
        "\tcudaEventDestroy(stop);\n",
        "\n",
        "  cudaFree(d_arr);\n",
        "  free(h_arr);\n",
        "  free(h_result);\n",
        "\n",
        "  return 0;\n",
        "}\n"
      ],
      "metadata": {
        "colab": {
          "base_uri": "https://localhost:8080/"
        },
        "id": "J1QNgr_jTKTM",
        "outputId": "b4b2c189-abce-4aaa-aaf3-682c2e40e53a"
      },
      "execution_count": 79,
      "outputs": [
        {
          "output_type": "stream",
          "name": "stdout",
          "text": [
            "Overwriting step3.cu\n"
          ]
        }
      ]
    },
    {
      "cell_type": "code",
      "source": [
        "!nvcc -arch=sm_75 step3.cu -O0 -o step3"
      ],
      "metadata": {
        "id": "1Z1C9ehMVJPR"
      },
      "execution_count": 80,
      "outputs": []
    },
    {
      "cell_type": "code",
      "source": [
        "!./step3"
      ],
      "metadata": {
        "colab": {
          "base_uri": "https://localhost:8080/"
        },
        "id": "TyyxSkLbVJYK",
        "outputId": "d29fc3fc-eb79-48ee-f4ef-f7725b4f28a9"
      },
      "execution_count": 81,
      "outputs": [
        {
          "output_type": "stream",
          "name": "stdout",
          "text": [
            "Block size is 128\n",
            "Grid size is 7812500\n",
            "Elapsed time 34.19603 ms\n",
            "Arrays match.\n",
            "\n"
          ]
        }
      ]
    }
  ]
}